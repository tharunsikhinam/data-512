{
 "cells": [
  {
   "cell_type": "markdown",
   "metadata": {},
   "source": [
    "# Data 512 Project\n",
    "## FIFA transfer market analysis of the top 5 European leagues "
   ]
  },
  {
   "cell_type": "markdown",
   "metadata": {},
   "source": [
    "## Introduction"
   ]
  },
  {
   "cell_type": "markdown",
   "metadata": {},
   "source": [
    "## 1. Data Collection\n"
   ]
  },
  {
   "cell_type": "markdown",
   "metadata": {},
   "source": [
    "#### Data is scraped off of transfermarket.co.uk in accordance with their Terms of Use. \n",
    "#### The R scripts to scrape data are stored under scrapingScripts/, run the following cell to generate raw data\n",
    "``` R < scriptName.R --no-save  ```"
   ]
  },
  {
   "cell_type": "markdown",
   "metadata": {},
   "source": [
    "### 1.1 Run R scripts to scrape data"
   ]
  },
  {
   "cell_type": "code",
   "execution_count": 11,
   "metadata": {
    "collapsed": true
   },
   "outputs": [
    {
     "name": "stdout",
     "output_type": "stream",
     "text": [
      "\n",
      "R version 3.6.1 (2019-07-05) -- \"Action of the Toes\"\n",
      "Copyright (C) 2019 The R Foundation for Statistical Computing\n",
      "Platform: x86_64-apple-darwin15.6.0 (64-bit)\n",
      "\n",
      "R is free software and comes with ABSOLUTELY NO WARRANTY.\n",
      "You are welcome to redistribute it under certain conditions.\n",
      "Type 'license()' or 'licence()' for distribution details.\n",
      "\n",
      "  Natural language support but running in an English locale\n",
      "\n",
      "R is a collaborative project with many contributors.\n",
      "Type 'contributors()' for more information and\n",
      "'citation()' on how to cite R or R packages in publications.\n",
      "\n",
      "Type 'demo()' for some demos, 'help()' for on-line help, or\n",
      "'help.start()' for an HTML browser interface to help.\n",
      "Type 'q()' to quit R.\n",
      "\n",
      "> \n",
      "> # setup -------------------------------------------------------------------\n",
      "> getwd()\n",
      "[1] \"/Users/tharun/workspace/data-512/data-512-project\"\n",
      "> # load packages / local functions\n",
      "> source(\"./scrapingScripts/00-setup.R\")\n",
      "Loading required package: pacman\n",
      "> \n",
      "> # seasons to scrape\n",
      "> seasons <- c(2018,2017,2016,2015,2014,2013,2012,2011,2010,2009,2008,2007,2006,2005,2004,2003,2002,2001,2000)\n",
      "> \n",
      "> # scrape ---------------------------------------------------\n",
      "> \n",
      "> # epl transfers\n",
      "> epl_transfers <- map_dfr(\n",
      "+   seasons, scrape_season_transfers,\n",
      "+   league_name = \"premier-league\", league_id = \"GB1\"\n",
      "+   )\n",
      "^C\n",
      "\n",
      "Execution halted\n"
     ]
    }
   ],
   "source": [
    "!R < ./scrapingScripts/01-scrape.R --no-save"
   ]
  },
  {
   "cell_type": "markdown",
   "metadata": {},
   "source": [
    "#### scrape.R can be modified to include more seasons and leagues, by default we are considering the years 1991-2018 and the European leagues from England, Spain, Italy, France, Germany, (Top 5) , Portugal and Netherlands"
   ]
  },
  {
   "cell_type": "markdown",
   "metadata": {},
   "source": [
    "### 1.2 List first 5 files in data directory"
   ]
  },
  {
   "cell_type": "code",
   "execution_count": 304,
   "metadata": {},
   "outputs": [
    {
     "data": {
      "text/plain": [
       "['spanish_primera_division_2018.csv',\n",
       " 'english_championship_1991.csv',\n",
       " 'italian_serie_a_2000.csv',\n",
       " 'italian_serie_a_2014.csv',\n",
       " 'german_bundesliga_1_2018.csv']"
      ]
     },
     "execution_count": 304,
     "metadata": {},
     "output_type": "execute_result"
    }
   ],
   "source": [
    "from os import walk\n",
    "f = []\n",
    "for (dirpath, dirnames, filenames) in walk(\"./rawData\"):\n",
    "    f.extend(filenames)\n",
    "    break\n",
    "f[0:5]"
   ]
  },
  {
   "cell_type": "markdown",
   "metadata": {},
   "source": [
    "### 1.3 Combining data into one file"
   ]
  },
  {
   "cell_type": "code",
   "execution_count": 305,
   "metadata": {},
   "outputs": [],
   "source": [
    "import pandas as pd\n",
    "import glob\n",
    "\n",
    "interesting_files = glob.glob(\"./rawData/*.csv\") \n",
    "\n",
    "# Combine data frames inside rawData directory\n",
    "combinedDf = pd.concat((pd.read_csv(f, header = 0) for f in interesting_files))"
   ]
  },
  {
   "cell_type": "code",
   "execution_count": 306,
   "metadata": {},
   "outputs": [
    {
     "data": {
      "text/html": [
       "<div>\n",
       "<style scoped>\n",
       "    .dataframe tbody tr th:only-of-type {\n",
       "        vertical-align: middle;\n",
       "    }\n",
       "\n",
       "    .dataframe tbody tr th {\n",
       "        vertical-align: top;\n",
       "    }\n",
       "\n",
       "    .dataframe thead th {\n",
       "        text-align: right;\n",
       "    }\n",
       "</style>\n",
       "<table border=\"1\" class=\"dataframe\">\n",
       "  <thead>\n",
       "    <tr style=\"text-align: right;\">\n",
       "      <th></th>\n",
       "      <th>club_name</th>\n",
       "      <th>player_name</th>\n",
       "      <th>age</th>\n",
       "      <th>position</th>\n",
       "      <th>club_involved_name</th>\n",
       "      <th>fee</th>\n",
       "      <th>transfer_movement</th>\n",
       "      <th>nat</th>\n",
       "      <th>fee_cleaned</th>\n",
       "      <th>league_name</th>\n",
       "      <th>year</th>\n",
       "      <th>season</th>\n",
       "    </tr>\n",
       "  </thead>\n",
       "  <tbody>\n",
       "    <tr>\n",
       "      <th>0</th>\n",
       "      <td>Athletic Bilbao</td>\n",
       "      <td>Yuri Berchiche</td>\n",
       "      <td>28.0</td>\n",
       "      <td>Left-Back</td>\n",
       "      <td>Paris SG</td>\n",
       "      <td>£21.60m</td>\n",
       "      <td>in</td>\n",
       "      <td>Spain;</td>\n",
       "      <td>21.60</td>\n",
       "      <td>Primera Division</td>\n",
       "      <td>2018</td>\n",
       "      <td>2018/2019</td>\n",
       "    </tr>\n",
       "    <tr>\n",
       "      <th>1</th>\n",
       "      <td>Athletic Bilbao</td>\n",
       "      <td>Ibai Gómez</td>\n",
       "      <td>29.0</td>\n",
       "      <td>Right Winger</td>\n",
       "      <td>Alavés</td>\n",
       "      <td>£3.60m</td>\n",
       "      <td>in</td>\n",
       "      <td>Spain;</td>\n",
       "      <td>3.60</td>\n",
       "      <td>Primera Division</td>\n",
       "      <td>2018</td>\n",
       "      <td>2018/2019</td>\n",
       "    </tr>\n",
       "    <tr>\n",
       "      <th>2</th>\n",
       "      <td>Athletic Bilbao</td>\n",
       "      <td>Ander Capa</td>\n",
       "      <td>26.0</td>\n",
       "      <td>Right-Back</td>\n",
       "      <td>SD Eibar</td>\n",
       "      <td>£2.70m</td>\n",
       "      <td>in</td>\n",
       "      <td>Spain;</td>\n",
       "      <td>2.70</td>\n",
       "      <td>Primera Division</td>\n",
       "      <td>2018</td>\n",
       "      <td>2018/2019</td>\n",
       "    </tr>\n",
       "    <tr>\n",
       "      <th>3</th>\n",
       "      <td>Athletic Bilbao</td>\n",
       "      <td>Cristian Ganea</td>\n",
       "      <td>26.0</td>\n",
       "      <td>Left-Back</td>\n",
       "      <td>FC Viitorul</td>\n",
       "      <td>£900k</td>\n",
       "      <td>in</td>\n",
       "      <td>Romania;Spain;</td>\n",
       "      <td>0.90</td>\n",
       "      <td>Primera Division</td>\n",
       "      <td>2018</td>\n",
       "      <td>2018/2019</td>\n",
       "    </tr>\n",
       "    <tr>\n",
       "      <th>4</th>\n",
       "      <td>Athletic Bilbao</td>\n",
       "      <td>Kenan Kodro</td>\n",
       "      <td>25.0</td>\n",
       "      <td>Centre-Forward</td>\n",
       "      <td>FC Copenhagen</td>\n",
       "      <td>£810k</td>\n",
       "      <td>in</td>\n",
       "      <td>Bosnia-Herzegovina;Spain;</td>\n",
       "      <td>0.81</td>\n",
       "      <td>Primera Division</td>\n",
       "      <td>2018</td>\n",
       "      <td>2018/2019</td>\n",
       "    </tr>\n",
       "  </tbody>\n",
       "</table>\n",
       "</div>"
      ],
      "text/plain": [
       "         club_name     player_name   age        position club_involved_name  \\\n",
       "0  Athletic Bilbao  Yuri Berchiche  28.0       Left-Back           Paris SG   \n",
       "1  Athletic Bilbao      Ibai Gómez  29.0    Right Winger             Alavés   \n",
       "2  Athletic Bilbao      Ander Capa  26.0      Right-Back           SD Eibar   \n",
       "3  Athletic Bilbao  Cristian Ganea  26.0       Left-Back        FC Viitorul   \n",
       "4  Athletic Bilbao     Kenan Kodro  25.0  Centre-Forward      FC Copenhagen   \n",
       "\n",
       "       fee transfer_movement                        nat  fee_cleaned  \\\n",
       "0  £21.60m                in                     Spain;        21.60   \n",
       "1   £3.60m                in                     Spain;         3.60   \n",
       "2   £2.70m                in                     Spain;         2.70   \n",
       "3    £900k                in             Romania;Spain;         0.90   \n",
       "4    £810k                in  Bosnia-Herzegovina;Spain;         0.81   \n",
       "\n",
       "        league_name  year     season  \n",
       "0  Primera Division  2018  2018/2019  \n",
       "1  Primera Division  2018  2018/2019  \n",
       "2  Primera Division  2018  2018/2019  \n",
       "3  Primera Division  2018  2018/2019  \n",
       "4  Primera Division  2018  2018/2019  "
      ]
     },
     "execution_count": 306,
     "metadata": {},
     "output_type": "execute_result"
    }
   ],
   "source": [
    "combinedDf.to_csv(\"./cleanData/allSeasons.csv\")\n",
    "combinedDf.head(5)"
   ]
  },
  {
   "cell_type": "markdown",
   "metadata": {},
   "source": [
    "## 2. Data Pre-Processing"
   ]
  },
  {
   "cell_type": "code",
   "execution_count": 307,
   "metadata": {},
   "outputs": [],
   "source": [
    "import pandas as pd\n",
    "import numpy as np\n",
    "raw = pd.read_csv(\"./cleanData/allSeasons.csv\")"
   ]
  },
  {
   "cell_type": "markdown",
   "metadata": {},
   "source": [
    "#### Shape of the dataset"
   ]
  },
  {
   "cell_type": "code",
   "execution_count": 308,
   "metadata": {},
   "outputs": [
    {
     "data": {
      "text/plain": [
       "(147027, 13)"
      ]
     },
     "execution_count": 308,
     "metadata": {},
     "output_type": "execute_result"
    }
   ],
   "source": [
    "raw.shape"
   ]
  },
  {
   "cell_type": "markdown",
   "metadata": {},
   "source": [
    "#### Columns"
   ]
  },
  {
   "cell_type": "code",
   "execution_count": 309,
   "metadata": {},
   "outputs": [
    {
     "data": {
      "text/plain": [
       "Index(['Unnamed: 0', 'club_name', 'player_name', 'age', 'position',\n",
       "       'club_involved_name', 'fee', 'transfer_movement', 'nat', 'fee_cleaned',\n",
       "       'league_name', 'year', 'season'],\n",
       "      dtype='object')"
      ]
     },
     "execution_count": 309,
     "metadata": {},
     "output_type": "execute_result"
    }
   ],
   "source": [
    "raw.columns"
   ]
  },
  {
   "cell_type": "markdown",
   "metadata": {},
   "source": [
    "### 2.1 Dropping unnecessary columns"
   ]
  },
  {
   "cell_type": "code",
   "execution_count": 310,
   "metadata": {},
   "outputs": [],
   "source": [
    "raw.head(5)\n",
    "raw = raw.drop([\"player_name\",\"age\",\"fee\"],axis=1)"
   ]
  },
  {
   "cell_type": "markdown",
   "metadata": {},
   "source": [
    "### 2.2 Clean up nationality and position\n",
    "#### For players belonging to more than one nation, only the first country is used\n",
    "#### Positions are generalized into Forwards, Midfield, Defense, Wingers and Goalkeepers\n"
   ]
  },
  {
   "cell_type": "code",
   "execution_count": 311,
   "metadata": {},
   "outputs": [],
   "source": [
    "# Consider only the first country that player belongs to\n",
    "def cleanCountry(row):\n",
    "    if isinstance(row[\"nat\"],str) :\n",
    "        return row[\"nat\"].split(\";\")[0]\n",
    "    else:\n",
    "        return row[\"nat\"]\n",
    "    \n",
    "# Replace positions with a general category    \n",
    "def cleanPosition(row):\n",
    "    if isinstance(row[\"position\"],str) :\n",
    "        if \"Midfield\" in row[\"position\"]:\n",
    "            return \"Midfield\"\n",
    "        elif row[\"position\"].find(\"Back\")>-1:\n",
    "            return \"Defense\"\n",
    "        elif \"Forward\" in row[\"position\"]:\n",
    "            return \"Forward\"\n",
    "        elif \"Striker\" in row[\"position\"]:\n",
    "            return \"Forward\"    \n",
    "        elif \"Winger\" in row[\"position\"]:\n",
    "            return \"Winger\"\n",
    "        else:\n",
    "            return row[\"position\"]\n",
    "    else:\n",
    "        return row[\"position\"]"
   ]
  },
  {
   "cell_type": "markdown",
   "metadata": {},
   "source": [
    "<b>Clean up country  \n",
    "Clean up position and add new posNew column  \n",
    "Remove incoming transfers (duplicates)  \n",
    "Remove rows from Championship, we're only considering top flight leagues  </b>"
   ]
  },
  {
   "cell_type": "code",
   "execution_count": 312,
   "metadata": {},
   "outputs": [],
   "source": [
    "# Clean up country\n",
    "raw[\"nat\"] = raw.apply(cleanCountry,axis=1)\n",
    "# Clean up Position aand add new posNew column\n",
    "raw[\"posNew\"] = raw.apply(cleanPosition,axis=1)\n",
    "# Remove incoming transfers (duplicates)\n",
    "raw = raw[raw['transfer_movement']=='in']\n",
    "# Remove rows from Championship, we're only considering top flights leagues\n",
    "raw = raw[raw[\"league_name\"]!=\"Championship\"]"
   ]
  },
  {
   "cell_type": "markdown",
   "metadata": {},
   "source": [
    "### 2.4 Replace NA's with zeroe's and drop all rows with zeroe's\n",
    "\n",
    "#### For the purposes of this analysis we will be only considering publicly stated transfers. Transfers involving loans, free transfers and end of contract signings are not considered."
   ]
  },
  {
   "cell_type": "code",
   "execution_count": 313,
   "metadata": {},
   "outputs": [],
   "source": [
    "# Replace 0's with NA's and drop rows  \n",
    "raw = raw.replace(0,np.nan)\n",
    "raw = raw.dropna()\n",
    "leagues = raw.league_name.unique()"
   ]
  },
  {
   "cell_type": "code",
   "execution_count": 314,
   "metadata": {},
   "outputs": [
    {
     "data": {
      "text/plain": [
       "(12583, 11)"
      ]
     },
     "execution_count": 314,
     "metadata": {},
     "output_type": "execute_result"
    }
   ],
   "source": [
    "raw.to_csv(\"./cleanData/allSeasonsClean.csv\")\n",
    "raw.shape"
   ]
  },
  {
   "cell_type": "markdown",
   "metadata": {},
   "source": [
    "### 2.5. Load data into SQL Server"
   ]
  },
  {
   "cell_type": "markdown",
   "metadata": {},
   "source": [
    "<b>For all future parts of this analysis a local installation of sqlite3 is recommended. Download sqlite3 from the following link and unzip the file https://www.sqlite.org/download.html. </b>"
   ]
  },
  {
   "cell_type": "markdown",
   "metadata": {},
   "source": [
    "<b>\n",
    "We will be using an in-memory database to run SQL queries against. If you would like to create a persistent copy of the database, replace :memory: with a path in the filesystem\n",
    "</b>"
   ]
  },
  {
   "cell_type": "code",
   "execution_count": 320,
   "metadata": {},
   "outputs": [],
   "source": [
    "import sqlite3\n",
    "import pandas as pd\n",
    "\n",
    "# Create a new database called transfers.db\n",
    "raw = pd.read_csv(\"./cleanData/allSeasonsClean.csv\")\n",
    "cnx = sqlite3.connect(\":memory:\")\n",
    "\n",
    "# create the dataframe from a query\n",
    "raw.to_sql(\"transfer\", cnx, if_exists='append', index=False)"
   ]
  },
  {
   "cell_type": "markdown",
   "metadata": {},
   "source": [
    "#### Verifying counts in database"
   ]
  },
  {
   "cell_type": "code",
   "execution_count": 322,
   "metadata": {},
   "outputs": [
    {
     "data": {
      "text/html": [
       "<div>\n",
       "<style scoped>\n",
       "    .dataframe tbody tr th:only-of-type {\n",
       "        vertical-align: middle;\n",
       "    }\n",
       "\n",
       "    .dataframe tbody tr th {\n",
       "        vertical-align: top;\n",
       "    }\n",
       "\n",
       "    .dataframe thead th {\n",
       "        text-align: right;\n",
       "    }\n",
       "</style>\n",
       "<table border=\"1\" class=\"dataframe\">\n",
       "  <thead>\n",
       "    <tr style=\"text-align: right;\">\n",
       "      <th></th>\n",
       "      <th>count(*)</th>\n",
       "    </tr>\n",
       "  </thead>\n",
       "  <tbody>\n",
       "    <tr>\n",
       "      <th>0</th>\n",
       "      <td>12583</td>\n",
       "    </tr>\n",
       "  </tbody>\n",
       "</table>\n",
       "</div>"
      ],
      "text/plain": [
       "   count(*)\n",
       "0     12583"
      ]
     },
     "execution_count": 322,
     "metadata": {},
     "output_type": "execute_result"
    }
   ],
   "source": [
    "df = pd.read_sql_query(\"SELECT count(*) FROM transfer limit 1\", cnx)\n",
    "df.head()"
   ]
  },
  {
   "cell_type": "markdown",
   "metadata": {},
   "source": [
    "#### Loading inflation dataset"
   ]
  },
  {
   "cell_type": "markdown",
   "metadata": {},
   "source": [
    "<b>British inflation data is obtained from http://inflation.iamkate.com/ under the <insert license here></b>\n",
    "    \n",
    "<b>Multiplier mentions by how much the price at a particular year should be multiplied by to get an inflation adjusted value</b>"
   ]
  },
  {
   "cell_type": "code",
   "execution_count": 323,
   "metadata": {},
   "outputs": [
    {
     "data": {
      "text/html": [
       "<div>\n",
       "<style scoped>\n",
       "    .dataframe tbody tr th:only-of-type {\n",
       "        vertical-align: middle;\n",
       "    }\n",
       "\n",
       "    .dataframe tbody tr th {\n",
       "        vertical-align: top;\n",
       "    }\n",
       "\n",
       "    .dataframe thead th {\n",
       "        text-align: right;\n",
       "    }\n",
       "</style>\n",
       "<table border=\"1\" class=\"dataframe\">\n",
       "  <thead>\n",
       "    <tr style=\"text-align: right;\">\n",
       "      <th></th>\n",
       "      <th>Year</th>\n",
       "      <th>Multiplier</th>\n",
       "    </tr>\n",
       "  </thead>\n",
       "  <tbody>\n",
       "    <tr>\n",
       "      <th>0</th>\n",
       "      <td>2018</td>\n",
       "      <td>1.00</td>\n",
       "    </tr>\n",
       "    <tr>\n",
       "      <th>1</th>\n",
       "      <td>2017</td>\n",
       "      <td>1.04</td>\n",
       "    </tr>\n",
       "    <tr>\n",
       "      <th>2</th>\n",
       "      <td>2016</td>\n",
       "      <td>1.05</td>\n",
       "    </tr>\n",
       "    <tr>\n",
       "      <th>3</th>\n",
       "      <td>2015</td>\n",
       "      <td>1.07</td>\n",
       "    </tr>\n",
       "    <tr>\n",
       "      <th>4</th>\n",
       "      <td>2014</td>\n",
       "      <td>1.09</td>\n",
       "    </tr>\n",
       "  </tbody>\n",
       "</table>\n",
       "</div>"
      ],
      "text/plain": [
       "   Year  Multiplier\n",
       "0  2018        1.00\n",
       "1  2017        1.04\n",
       "2  2016        1.05\n",
       "3  2015        1.07\n",
       "4  2014        1.09"
      ]
     },
     "execution_count": 323,
     "metadata": {},
     "output_type": "execute_result"
    }
   ],
   "source": [
    "inflation = pd.read_csv(\"./cleanData/inflation.csv\")\n",
    "inflation.head()"
   ]
  },
  {
   "cell_type": "code",
   "execution_count": 324,
   "metadata": {},
   "outputs": [],
   "source": [
    "inflation.to_sql(\"inflation\", cnx, if_exists='append', index=False)"
   ]
  },
  {
   "cell_type": "markdown",
   "metadata": {},
   "source": [
    "### 2.6. Adjust transfer fee for inflation"
   ]
  },
  {
   "cell_type": "markdown",
   "metadata": {},
   "source": [
    "<b>Adjust transfer fees for inflation and store this data as transfers table</b>"
   ]
  },
  {
   "cell_type": "code",
   "execution_count": 325,
   "metadata": {},
   "outputs": [],
   "source": [
    "inflation_adjusted = pd.read_sql_query(\"select transfer.*,(fee_cleaned*multiplier) as `fee_inflation_adjusted` from transfer join inflation on transfer.year = inflation.year\",cnx)\n",
    "inflation_adjusted.to_sql(\"transfers\", cnx, if_exists='append', index=False)\n"
   ]
  },
  {
   "cell_type": "markdown",
   "metadata": {},
   "source": [
    "## 3. Data Analysis"
   ]
  },
  {
   "cell_type": "markdown",
   "metadata": {},
   "source": [
    "#### Verifying data in the table"
   ]
  },
  {
   "cell_type": "code",
   "execution_count": 326,
   "metadata": {},
   "outputs": [
    {
     "data": {
      "text/html": [
       "<div>\n",
       "<style scoped>\n",
       "    .dataframe tbody tr th:only-of-type {\n",
       "        vertical-align: middle;\n",
       "    }\n",
       "\n",
       "    .dataframe tbody tr th {\n",
       "        vertical-align: top;\n",
       "    }\n",
       "\n",
       "    .dataframe thead th {\n",
       "        text-align: right;\n",
       "    }\n",
       "</style>\n",
       "<table border=\"1\" class=\"dataframe\">\n",
       "  <thead>\n",
       "    <tr style=\"text-align: right;\">\n",
       "      <th></th>\n",
       "      <th>count(*)</th>\n",
       "    </tr>\n",
       "  </thead>\n",
       "  <tbody>\n",
       "    <tr>\n",
       "      <th>0</th>\n",
       "      <td>12583</td>\n",
       "    </tr>\n",
       "  </tbody>\n",
       "</table>\n",
       "</div>"
      ],
      "text/plain": [
       "   count(*)\n",
       "0     12583"
      ]
     },
     "execution_count": 326,
     "metadata": {},
     "output_type": "execute_result"
    }
   ],
   "source": [
    "pd.read_sql_query(\"SELECT count(*) FROM transfers limit 1\", cnx).head()"
   ]
  },
  {
   "cell_type": "markdown",
   "metadata": {},
   "source": [
    "## Q1. How has the transfer spending increased in the top 5 European Leagues?"
   ]
  },
  {
   "cell_type": "markdown",
   "metadata": {},
   "source": [
    "### SQL query - sum(transfer_fee) and group by league_name and year\n"
   ]
  },
  {
   "cell_type": "code",
   "execution_count": 327,
   "metadata": {},
   "outputs": [
    {
     "data": {
      "text/html": [
       "<div>\n",
       "<style scoped>\n",
       "    .dataframe tbody tr th:only-of-type {\n",
       "        vertical-align: middle;\n",
       "    }\n",
       "\n",
       "    .dataframe tbody tr th {\n",
       "        vertical-align: top;\n",
       "    }\n",
       "\n",
       "    .dataframe thead th {\n",
       "        text-align: right;\n",
       "    }\n",
       "</style>\n",
       "<table border=\"1\" class=\"dataframe\">\n",
       "  <thead>\n",
       "    <tr style=\"text-align: right;\">\n",
       "      <th></th>\n",
       "      <th>league_name</th>\n",
       "      <th>year</th>\n",
       "      <th>total_spending in £million</th>\n",
       "    </tr>\n",
       "  </thead>\n",
       "  <tbody>\n",
       "    <tr>\n",
       "      <th>0</th>\n",
       "      <td>1 Bundesliga</td>\n",
       "      <td>1991</td>\n",
       "      <td>63.91224</td>\n",
       "    </tr>\n",
       "    <tr>\n",
       "      <th>1</th>\n",
       "      <td>1 Bundesliga</td>\n",
       "      <td>1992</td>\n",
       "      <td>53.74992</td>\n",
       "    </tr>\n",
       "    <tr>\n",
       "      <th>2</th>\n",
       "      <td>1 Bundesliga</td>\n",
       "      <td>1993</td>\n",
       "      <td>65.19518</td>\n",
       "    </tr>\n",
       "    <tr>\n",
       "      <th>3</th>\n",
       "      <td>1 Bundesliga</td>\n",
       "      <td>1994</td>\n",
       "      <td>93.10642</td>\n",
       "    </tr>\n",
       "    <tr>\n",
       "      <th>4</th>\n",
       "      <td>1 Bundesliga</td>\n",
       "      <td>1995</td>\n",
       "      <td>130.20399</td>\n",
       "    </tr>\n",
       "  </tbody>\n",
       "</table>\n",
       "</div>"
      ],
      "text/plain": [
       "    league_name  year  total_spending in £million\n",
       "0  1 Bundesliga  1991                    63.91224\n",
       "1  1 Bundesliga  1992                    53.74992\n",
       "2  1 Bundesliga  1993                    65.19518\n",
       "3  1 Bundesliga  1994                    93.10642\n",
       "4  1 Bundesliga  1995                   130.20399"
      ]
     },
     "execution_count": 327,
     "metadata": {},
     "output_type": "execute_result"
    }
   ],
   "source": [
    "df = pd.read_sql_query(\"SELECT league_name,year,sum(fee_inflation_adjusted) as `total_spending in £million` from transfers where\\\n",
    "                       league_name in ('Serie A', '1 Bundesliga', 'Premier League', 'Ligue 1','Primera Division') \\\n",
    "                       group by league_name,year\",cnx)\n",
    "df.head(5)"
   ]
  },
  {
   "cell_type": "markdown",
   "metadata": {},
   "source": [
    "### Plot"
   ]
  },
  {
   "cell_type": "code",
   "execution_count": 328,
   "metadata": {},
   "outputs": [
    {
     "data": {
      "text/plain": [
       "Text(0.5, 1.0, 'Transfer Spending in the top 5 European Leagues')"
      ]
     },
     "execution_count": 328,
     "metadata": {},
     "output_type": "execute_result"
    },
    {
     "data": {
      "image/png": "[encoded data removed]",
      "text/plain": [
       "<Figure size 1440x720 with 1 Axes>"
      ]
     },
     "metadata": {
      "needs_background": "light"
     },
     "output_type": "display_data"
    }
   ],
   "source": [
    "import matplotlib.pyplot as plt\n",
    "plt.rcParams[\"figure.figsize\"] = (20,10)\n",
    "for l in ['Serie A', '1 Bundesliga', 'Premier League', 'Ligue 1','Primera Division']:\n",
    "    x = df[df[\"league_name\"]==l]\n",
    "    plt.plot(x[\"year\"], x[\"total_spending in £million\"],label=l)\n",
    "plt.legend(prop={'size': 15})\n",
    "plt.title(\"Transfer Spending in the top 5 European Leagues\")\n"
   ]
  },
  {
   "cell_type": "markdown",
   "metadata": {},
   "source": [
    "### Results\n",
    "- Transfer spending has been steadily increasing for all European leagues since 1991\n",
    "- The spending gap between Premier League and the others  shows a steep increase since the 2010.\n",
    "- The percentage change in median price of player from 1990’s to 2018 is 521%"
   ]
  },
  {
   "cell_type": "markdown",
   "metadata": {},
   "source": [
    "## Q 2.1. Which clubs spend the most on players from 2010-2018?"
   ]
  },
  {
   "cell_type": "markdown",
   "metadata": {},
   "source": [
    "### SQL Query - sum(transfer_fee) and group by club_name and order by descending"
   ]
  },
  {
   "cell_type": "code",
   "execution_count": 332,
   "metadata": {},
   "outputs": [
    {
     "data": {
      "text/html": [
       "<div>\n",
       "<style scoped>\n",
       "    .dataframe tbody tr th:only-of-type {\n",
       "        vertical-align: middle;\n",
       "    }\n",
       "\n",
       "    .dataframe tbody tr th {\n",
       "        vertical-align: top;\n",
       "    }\n",
       "\n",
       "    .dataframe thead th {\n",
       "        text-align: right;\n",
       "    }\n",
       "</style>\n",
       "<table border=\"1\" class=\"dataframe\">\n",
       "  <thead>\n",
       "    <tr style=\"text-align: right;\">\n",
       "      <th></th>\n",
       "      <th>club_name</th>\n",
       "      <th>league_name</th>\n",
       "      <th>total_spending in £million</th>\n",
       "    </tr>\n",
       "  </thead>\n",
       "  <tbody>\n",
       "    <tr>\n",
       "      <th>0</th>\n",
       "      <td>Manchester City</td>\n",
       "      <td>Premier League</td>\n",
       "      <td>1091.67252</td>\n",
       "    </tr>\n",
       "    <tr>\n",
       "      <th>1</th>\n",
       "      <td>Chelsea FC</td>\n",
       "      <td>Premier League</td>\n",
       "      <td>1043.53560</td>\n",
       "    </tr>\n",
       "    <tr>\n",
       "      <th>2</th>\n",
       "      <td>Paris Saint-Germain</td>\n",
       "      <td>Ligue 1</td>\n",
       "      <td>999.81630</td>\n",
       "    </tr>\n",
       "    <tr>\n",
       "      <th>3</th>\n",
       "      <td>Manchester United</td>\n",
       "      <td>Premier League</td>\n",
       "      <td>957.71340</td>\n",
       "    </tr>\n",
       "    <tr>\n",
       "      <th>4</th>\n",
       "      <td>Juventus FC</td>\n",
       "      <td>Serie A</td>\n",
       "      <td>954.37664</td>\n",
       "    </tr>\n",
       "    <tr>\n",
       "      <th>5</th>\n",
       "      <td>FC Barcelona</td>\n",
       "      <td>Primera Division</td>\n",
       "      <td>931.91810</td>\n",
       "    </tr>\n",
       "    <tr>\n",
       "      <th>6</th>\n",
       "      <td>Liverpool FC</td>\n",
       "      <td>Premier League</td>\n",
       "      <td>877.93216</td>\n",
       "    </tr>\n",
       "    <tr>\n",
       "      <th>7</th>\n",
       "      <td>AS Roma</td>\n",
       "      <td>Serie A</td>\n",
       "      <td>682.37935</td>\n",
       "    </tr>\n",
       "    <tr>\n",
       "      <th>8</th>\n",
       "      <td>Real Madrid</td>\n",
       "      <td>Primera Division</td>\n",
       "      <td>673.22300</td>\n",
       "    </tr>\n",
       "    <tr>\n",
       "      <th>9</th>\n",
       "      <td>Atlético Madrid</td>\n",
       "      <td>Primera Division</td>\n",
       "      <td>617.01605</td>\n",
       "    </tr>\n",
       "  </tbody>\n",
       "</table>\n",
       "</div>"
      ],
      "text/plain": [
       "             club_name       league_name  total_spending in £million\n",
       "0      Manchester City    Premier League                  1091.67252\n",
       "1           Chelsea FC    Premier League                  1043.53560\n",
       "2  Paris Saint-Germain           Ligue 1                   999.81630\n",
       "3    Manchester United    Premier League                   957.71340\n",
       "4          Juventus FC           Serie A                   954.37664\n",
       "5         FC Barcelona  Primera Division                   931.91810\n",
       "6         Liverpool FC    Premier League                   877.93216\n",
       "7              AS Roma           Serie A                   682.37935\n",
       "8          Real Madrid  Primera Division                   673.22300\n",
       "9      Atlético Madrid  Primera Division                   617.01605"
      ]
     },
     "execution_count": 332,
     "metadata": {},
     "output_type": "execute_result"
    }
   ],
   "source": [
    "topSpenders = pd.read_sql_query(\"SELECT club_name,league_name,sum(fee_inflation_adjusted) as `total_spending in £million` from transfers where\\\n",
    "                       year>2010 and year<2019\\\n",
    "                       group by club_name,league_name order by `total_spending in £million` desc\",cnx)\n",
    "topSpenders = topSpenders.head(10)\n",
    "topSpenders.head(10)"
   ]
  },
  {
   "cell_type": "markdown",
   "metadata": {},
   "source": [
    "### Plot"
   ]
  },
  {
   "cell_type": "code",
   "execution_count": 333,
   "metadata": {},
   "outputs": [
    {
     "data": {
      "text/plain": [
       "<BarContainer object of 10 artists>"
      ]
     },
     "execution_count": 333,
     "metadata": {},
     "output_type": "execute_result"
    },
    {
     "data": {
      "image/png": "[encoded data removed]",
      "text/plain": [
       "<Figure size 720x360 with 1 Axes>"
      ]
     },
     "metadata": {
      "needs_background": "light"
     },
     "output_type": "display_data"
    }
   ],
   "source": [
    "plt.rcParams[\"figure.figsize\"] = (10,5)\n",
    "plt.barh(topSpenders[\"club_name\"],topSpenders[\"total_spending in £million\"])"
   ]
  },
  {
   "cell_type": "markdown",
   "metadata": {},
   "source": [
    "## Q 2.2: Which clubs receive the highest transfer fees for their players?"
   ]
  },
  {
   "cell_type": "markdown",
   "metadata": {},
   "source": [
    "### SQL Query - sum(transfer_fee) over outgoing transfers and group by club_name and order by descending"
   ]
  },
  {
   "cell_type": "code",
   "execution_count": 334,
   "metadata": {},
   "outputs": [
    {
     "data": {
      "text/html": [
       "<div>\n",
       "<style scoped>\n",
       "    .dataframe tbody tr th:only-of-type {\n",
       "        vertical-align: middle;\n",
       "    }\n",
       "\n",
       "    .dataframe tbody tr th {\n",
       "        vertical-align: top;\n",
       "    }\n",
       "\n",
       "    .dataframe thead th {\n",
       "        text-align: right;\n",
       "    }\n",
       "</style>\n",
       "<table border=\"1\" class=\"dataframe\">\n",
       "  <thead>\n",
       "    <tr style=\"text-align: right;\">\n",
       "      <th></th>\n",
       "      <th>club_involved_name</th>\n",
       "      <th>total_spending in £million</th>\n",
       "    </tr>\n",
       "  </thead>\n",
       "  <tbody>\n",
       "    <tr>\n",
       "      <th>0</th>\n",
       "      <td>Monaco</td>\n",
       "      <td>820.47040</td>\n",
       "    </tr>\n",
       "    <tr>\n",
       "      <th>1</th>\n",
       "      <td>Liverpool</td>\n",
       "      <td>623.73035</td>\n",
       "    </tr>\n",
       "    <tr>\n",
       "      <th>2</th>\n",
       "      <td>Benfica</td>\n",
       "      <td>592.63320</td>\n",
       "    </tr>\n",
       "    <tr>\n",
       "      <th>3</th>\n",
       "      <td>AS Roma</td>\n",
       "      <td>575.96250</td>\n",
       "    </tr>\n",
       "    <tr>\n",
       "      <th>4</th>\n",
       "      <td>Chelsea</td>\n",
       "      <td>562.63528</td>\n",
       "    </tr>\n",
       "    <tr>\n",
       "      <th>5</th>\n",
       "      <td>Juventus</td>\n",
       "      <td>536.67727</td>\n",
       "    </tr>\n",
       "    <tr>\n",
       "      <th>6</th>\n",
       "      <td>Real Madrid</td>\n",
       "      <td>501.64515</td>\n",
       "    </tr>\n",
       "    <tr>\n",
       "      <th>7</th>\n",
       "      <td>Bor. Dortmund</td>\n",
       "      <td>500.77116</td>\n",
       "    </tr>\n",
       "    <tr>\n",
       "      <th>8</th>\n",
       "      <td>FC Barcelona</td>\n",
       "      <td>467.06210</td>\n",
       "    </tr>\n",
       "    <tr>\n",
       "      <th>9</th>\n",
       "      <td>Spurs</td>\n",
       "      <td>460.68439</td>\n",
       "    </tr>\n",
       "  </tbody>\n",
       "</table>\n",
       "</div>"
      ],
      "text/plain": [
       "  club_involved_name  total_spending in £million\n",
       "0             Monaco                   820.47040\n",
       "1          Liverpool                   623.73035\n",
       "2            Benfica                   592.63320\n",
       "3            AS Roma                   575.96250\n",
       "4            Chelsea                   562.63528\n",
       "5           Juventus                   536.67727\n",
       "6        Real Madrid                   501.64515\n",
       "7      Bor. Dortmund                   500.77116\n",
       "8       FC Barcelona                   467.06210\n",
       "9              Spurs                   460.68439"
      ]
     },
     "execution_count": 334,
     "metadata": {},
     "output_type": "execute_result"
    }
   ],
   "source": [
    "highestReceivers = pd.read_sql_query(\"SELECT club_involved_name,sum(fee_inflation_adjusted) as `total_spending in £million` from transfers where\\\n",
    "                       year>=2010 and year<=2019\\\n",
    "                       group by club_involved_name order by `total_spending in £million` desc\",cnx).head(10)\n",
    "highestReceivers = highestReceivers.head(10)\n",
    "highestReceivers.head(10)"
   ]
  },
  {
   "cell_type": "markdown",
   "metadata": {},
   "source": [
    "### Plot"
   ]
  },
  {
   "cell_type": "code",
   "execution_count": 335,
   "metadata": {},
   "outputs": [
    {
     "data": {
      "text/plain": [
       "<BarContainer object of 10 artists>"
      ]
     },
     "execution_count": 335,
     "metadata": {},
     "output_type": "execute_result"
    },
    {
     "data": {
      "image/png": "[encoded data removed]",
      "text/plain": [
       "<Figure size 720x360 with 1 Axes>"
      ]
     },
     "metadata": {
      "needs_background": "light"
     },
     "output_type": "display_data"
    }
   ],
   "source": [
    "plt.rcParams[\"figure.figsize\"] = (10,5)\n",
    "plt.barh(highestReceivers[\"club_involved_name\"],highestReceivers[\"total_spending in £million\"])"
   ]
  },
  {
   "cell_type": "markdown",
   "metadata": {},
   "source": [
    "### Results"
   ]
  },
  {
   "cell_type": "markdown",
   "metadata": {},
   "source": [
    "- The highest spending clubs are Manchester City, Chelsea and PSG. It would be interesting to know how the transfer trends have changed for these three clubs\n",
    "- The club with highest transfer fees received is Monaco a relatively small club from Ligue 1 (France). We also notice Benfica another club from Liga Nos (Portugal) that receives high transfer fees. This goes to show that the club spending the highest doesn't necessarily sell their players for a high value\n",
    "- 4 of the top 10 highest spending clubs are from the English Premier League, which leads us into the next question. "
   ]
  },
  {
   "cell_type": "markdown",
   "metadata": {},
   "source": [
    "## Q3. How have the transfers flowed betwen the leagues from 2010-2018?"
   ]
  },
  {
   "cell_type": "markdown",
   "metadata": {},
   "source": [
    "### We create a new temporary table 'movements' with the following columns: from_league, fee_spent and to_league"
   ]
  },
  {
   "cell_type": "code",
   "execution_count": 336,
   "metadata": {},
   "outputs": [],
   "source": [
    "### To find out the movement of money across the leagues, we create a temporary table\n",
    "df = pd.read_sql_query(\"select t1.league_name as 'to_league',fee_inflation_adjusted,b.league_name as 'from_league' from transfers t1 left outer join (select club_name,league_name from transfers \\\n",
    "                        where league_name!='Championship' and year>=2010 \\\n",
    "                        group by club_name,league_name) as b on t1.club_involved_name = b.club_name where t1.year>=2010\",cnx);\n",
    "\n",
    "df.to_sql(\"movements\", cnx, if_exists='append', index=False)\n",
    "\n"
   ]
  },
  {
   "cell_type": "code",
   "execution_count": 337,
   "metadata": {},
   "outputs": [
    {
     "data": {
      "text/html": [
       "<div>\n",
       "<style scoped>\n",
       "    .dataframe tbody tr th:only-of-type {\n",
       "        vertical-align: middle;\n",
       "    }\n",
       "\n",
       "    .dataframe tbody tr th {\n",
       "        vertical-align: top;\n",
       "    }\n",
       "\n",
       "    .dataframe thead th {\n",
       "        text-align: right;\n",
       "    }\n",
       "</style>\n",
       "<table border=\"1\" class=\"dataframe\">\n",
       "  <thead>\n",
       "    <tr style=\"text-align: right;\">\n",
       "      <th></th>\n",
       "      <th>to_league</th>\n",
       "      <th>sum(fee_inflation_adjusted)</th>\n",
       "      <th>from_league</th>\n",
       "    </tr>\n",
       "  </thead>\n",
       "  <tbody>\n",
       "    <tr>\n",
       "      <th>0</th>\n",
       "      <td>1 Bundesliga</td>\n",
       "      <td>63.0353</td>\n",
       "      <td>Eredivisie</td>\n",
       "    </tr>\n",
       "    <tr>\n",
       "      <th>1</th>\n",
       "      <td>1 Bundesliga</td>\n",
       "      <td>4.2588</td>\n",
       "      <td>Liga Nos</td>\n",
       "    </tr>\n",
       "    <tr>\n",
       "      <th>2</th>\n",
       "      <td>1 Bundesliga</td>\n",
       "      <td>78.6060</td>\n",
       "      <td>Ligue 1</td>\n",
       "    </tr>\n",
       "    <tr>\n",
       "      <th>3</th>\n",
       "      <td>1 Bundesliga</td>\n",
       "      <td>7.9515</td>\n",
       "      <td>Premier League</td>\n",
       "    </tr>\n",
       "    <tr>\n",
       "      <th>4</th>\n",
       "      <td>1 Bundesliga</td>\n",
       "      <td>190.0360</td>\n",
       "      <td>Primera Division</td>\n",
       "    </tr>\n",
       "  </tbody>\n",
       "</table>\n",
       "</div>"
      ],
      "text/plain": [
       "      to_league  sum(fee_inflation_adjusted)       from_league\n",
       "0  1 Bundesliga                      63.0353        Eredivisie\n",
       "1  1 Bundesliga                       4.2588          Liga Nos\n",
       "2  1 Bundesliga                      78.6060           Ligue 1\n",
       "3  1 Bundesliga                       7.9515    Premier League\n",
       "4  1 Bundesliga                     190.0360  Primera Division"
      ]
     },
     "execution_count": 337,
     "metadata": {},
     "output_type": "execute_result"
    }
   ],
   "source": [
    "movements = pd.read_sql_query(\"select to_league,sum(fee_inflation_adjusted),from_league from movements where \\\n",
    "                                from_league is not null and to_league!=from_league group by to_league,from_league\",cnx)\n",
    "movements.head(5)"
   ]
  },
  {
   "cell_type": "markdown",
   "metadata": {},
   "source": [
    "### The above data is loaded into a sankey diagram written in javascript, the visualization is displayed below. Code for the visualization can be found at https://codepen.io/tharunsikhinam/pen/QWwbzKj"
   ]
  },
  {
   "cell_type": "code",
   "execution_count": 111,
   "metadata": {},
   "outputs": [
    {
     "data": {
      "text/html": [
       "<iframe src=https://codepen.io/tharunsikhinam/full/QWwbzKj width=1000 height=700></iframe>"
      ],
      "text/plain": [
       "<IPython.core.display.HTML object>"
      ]
     },
     "execution_count": 111,
     "metadata": {},
     "output_type": "execute_result"
    }
   ],
   "source": [
    "# Display the associated webpage in a new window\n",
    "import IPython\n",
    "url = 'https://codepen.io/tharunsikhinam/full/QWwbzKj'\n",
    "iframe = '<iframe src=' + url + ' width=1000 height=700></iframe>'\n",
    "IPython.display.HTML(iframe)"
   ]
  },
  {
   "cell_type": "markdown",
   "metadata": {},
   "source": [
    "### Results\n",
    "- The league importing the maximum talent is the English Premier League. This also explains the high transfer spending in that league.\n",
    "- The league exporting most talent is La Liga (Spain). The Spanish League exports players to nearly all leagues with the highest being to English Premier League. "
   ]
  },
  {
   "cell_type": "markdown",
   "metadata": {},
   "source": [
    "## Q 4: How has the wealth gap changed amongst the European elite?"
   ]
  },
  {
   "cell_type": "markdown",
   "metadata": {},
   "source": [
    "### For this part of the analysis we will be only focussing on the top 5 European leagues"
   ]
  },
  {
   "cell_type": "code",
   "execution_count": 339,
   "metadata": {},
   "outputs": [],
   "source": [
    "leagues = ['Primera Division', 'Serie A', '1 Bundesliga', 'Premier League','Ligue 1']"
   ]
  },
  {
   "cell_type": "markdown",
   "metadata": {},
   "source": [
    "### To evaluate the wealth gap\n",
    "### - We collect top 5 spenders in each league and calculate their transfer spending over the years\n",
    "### - We collect the bottom 15 in the league and calculate their transfer spendings over the years\n",
    "### - The above two measures are plotted on a graph"
   ]
  },
  {
   "cell_type": "code",
   "execution_count": 340,
   "metadata": {},
   "outputs": [
    {
     "data": {
      "image/png": "[encoded data removed]",
      "text/plain": [
       "<Figure size 720x360 with 1 Axes>"
      ]
     },
     "metadata": {
      "needs_background": "light"
     },
     "output_type": "display_data"
    },
    {
     "data": {
      "image/png": "[encoded data removed]",
      "text/plain": [
       "<Figure size 720x360 with 1 Axes>"
      ]
     },
     "metadata": {
      "needs_background": "light"
     },
     "output_type": "display_data"
    },
    {
     "data": {
      "image/png": "[encoded data removed]",
      "text/plain": [
       "<Figure size 720x360 with 1 Axes>"
      ]
     },
     "metadata": {
      "needs_background": "light"
     },
     "output_type": "display_data"
    },
    {
     "data": {
      "image/png": "[encoded data removed]",
      "text/plain": [
       "<Figure size 720x360 with 1 Axes>"
      ]
     },
     "metadata": {
      "needs_background": "light"
     },
     "output_type": "display_data"
    },
    {
     "data": {
      "image/png": "[encoded data removed]",
      "text/plain": [
       "<Figure size 720x360 with 1 Axes>"
      ]
     },
     "metadata": {
      "needs_background": "light"
     },
     "output_type": "display_data"
    }
   ],
   "source": [
    "i=120;\n",
    "for l in leagues:\n",
    "    plt.figure()\n",
    "    # Query to get spendings of top 5 clubs in a league\n",
    "    df = pd.read_sql_query(\"select '\"+l+\"' ,year,sum(fee_inflation_adjusted) from transfers where club_name in\\\n",
    "(select club_name from transfers where league_name='\"+l+\"'\\\n",
    "and year>=2010 \\\n",
    "group by club_name order by sum(fee_cleaned) desc limit 5) and league_name='\"+l+\"'\\\n",
    "and year>=2010 group by year\",cnx)\n",
    "    plt.plot(df[\"year\"], df[\"sum(fee_inflation_adjusted)\"],label=\"Top 5\")\n",
    "    \n",
    "    # Query to get spendings of bottom 15 clubs in a league\n",
    "    df = pd.read_sql_query(\"select '\"+l+\"' ,year,sum(fee_inflation_adjusted) from transfers where club_name not in\\\n",
    "(select club_name from transfers where league_name='\"+l+\"'\\\n",
    "and year>=2010 \\\n",
    "group by club_name order by sum(fee_cleaned) desc limit 5) and league_name='\"+l+\"'\\\n",
    "and year>=2010 group by year\",cnx)\n",
    "    plt.title(\"Transfer spendings in \" + l )\n",
    "    plt.plot(df[\"year\"], df[\"sum(fee_inflation_adjusted)\"],label=\"Bottom 15\")\n",
    "    plt.legend()\n",
    "  "
   ]
  },
  {
   "cell_type": "markdown",
   "metadata": {},
   "source": [
    "### Results\n",
    "- We observe a huge wealth inequality between the top and bottom clubs in Ligue 1, Serie A and Primera Division\n",
    "- The difference is not so significant for English Premier League and the Bundesliga\n",
    "- This is still a cause for concern since the top 5 clubs hold a disproportionate share of wealth in the top flight clubs\n",
    "- These top 5 clubs in their respective leagues have won the domestic or international titles since 2010 (except for Leicester City in 2016).\n",
    "- High transfer spending for domestic and international performance can lead to inequality between leagues and clubs. "
   ]
  },
  {
   "cell_type": "markdown",
   "metadata": {},
   "source": [
    "## Q5: Investigating the spending trends of Manchester City, Chelsea and Paris Saint-Germain"
   ]
  },
  {
   "cell_type": "markdown",
   "metadata": {},
   "source": [
    "### We are particularly interested in the spending trends of the above 3 clubs. They have arrived into the footballing scene relatively recently and have gone on to challenge the European Elite."
   ]
  },
  {
   "cell_type": "markdown",
   "metadata": {},
   "source": [
    "#### Calculate transfer spendings over the years for the above clubs"
   ]
  },
  {
   "cell_type": "code",
   "execution_count": 285,
   "metadata": {},
   "outputs": [
    {
     "data": {
      "text/html": [
       "<div>\n",
       "<style scoped>\n",
       "    .dataframe tbody tr th:only-of-type {\n",
       "        vertical-align: middle;\n",
       "    }\n",
       "\n",
       "    .dataframe tbody tr th {\n",
       "        vertical-align: top;\n",
       "    }\n",
       "\n",
       "    .dataframe thead th {\n",
       "        text-align: right;\n",
       "    }\n",
       "</style>\n",
       "<table border=\"1\" class=\"dataframe\">\n",
       "  <thead>\n",
       "    <tr style=\"text-align: right;\">\n",
       "      <th></th>\n",
       "      <th>club_name</th>\n",
       "      <th>year</th>\n",
       "      <th>transfer_fee_total</th>\n",
       "    </tr>\n",
       "  </thead>\n",
       "  <tbody>\n",
       "    <tr>\n",
       "      <th>0</th>\n",
       "      <td>Chelsea FC</td>\n",
       "      <td>1991</td>\n",
       "      <td>7.52112</td>\n",
       "    </tr>\n",
       "    <tr>\n",
       "      <th>1</th>\n",
       "      <td>Chelsea FC</td>\n",
       "      <td>1992</td>\n",
       "      <td>5.37132</td>\n",
       "    </tr>\n",
       "    <tr>\n",
       "      <th>2</th>\n",
       "      <td>Chelsea FC</td>\n",
       "      <td>1993</td>\n",
       "      <td>6.82014</td>\n",
       "    </tr>\n",
       "    <tr>\n",
       "      <th>3</th>\n",
       "      <td>Chelsea FC</td>\n",
       "      <td>1994</td>\n",
       "      <td>10.70880</td>\n",
       "    </tr>\n",
       "    <tr>\n",
       "      <th>4</th>\n",
       "      <td>Chelsea FC</td>\n",
       "      <td>1995</td>\n",
       "      <td>3.23190</td>\n",
       "    </tr>\n",
       "  </tbody>\n",
       "</table>\n",
       "</div>"
      ],
      "text/plain": [
       "    club_name  year  transfer_fee_total\n",
       "0  Chelsea FC  1991             7.52112\n",
       "1  Chelsea FC  1992             5.37132\n",
       "2  Chelsea FC  1993             6.82014\n",
       "3  Chelsea FC  1994            10.70880\n",
       "4  Chelsea FC  1995             3.23190"
      ]
     },
     "execution_count": 285,
     "metadata": {},
     "output_type": "execute_result"
    }
   ],
   "source": [
    "df = pd.read_sql_query(\"select club_name,year,sum(fee_inflation_adjusted) as `transfer_fee_total` from transfers\\\n",
    "                    where club_name in ('Manchester City','Chelsea FC','Paris Saint-Germain') and year<=2017\\\n",
    "                    group by club_name,year\",cnx)\n",
    "df.head(5)"
   ]
  },
  {
   "cell_type": "markdown",
   "metadata": {},
   "source": [
    "### For this question, Tableau was used to create the visualization. The Tableau file for the visualization can be found at clubsSpending.twb. "
   ]
  },
  {
   "cell_type": "markdown",
   "metadata": {},
   "source": [
    "- Chelsea, Manchester City and PSG have challenged the European elite in the past decade partly due to their huge spending\n",
    "- Chelsea’s investment grew by over 234%, while Paris Saint Germain’s by 477% and Manchester City’s by 621% \n",
    "- The huge transfer spendings can be attributed to the massive amounts of foreign investment into clubs\n",
    "\n",
    "<b>Amount & time to first title</b>\n",
    "- Chelsea - £470.5 million (2 yrs)\n",
    "- Manchester City - £761 million (5 yrs)\n",
    "- Paris SaintGermain - £421 million  (2 ys)"
   ]
  },
  {
   "cell_type": "markdown",
   "metadata": {},
   "source": [
    "## Q 6: Players from which country produce the best footballing talent?"
   ]
  },
  {
   "cell_type": "markdown",
   "metadata": {},
   "source": [
    "### Following steps are performed to decide which country produces the best kind of footballing talent\n",
    "- Iterate over the years 2000-2018\n",
    "- Iterate over chosen positions\n",
    "- Sum transfer fee by nation \n",
    "- Rank countries in descending order of transfer spending\n",
    "- Compute median rank over the years\n",
    "- Sort by median rank and display for each position\n",
    "- Disregard countries that appear in the top 10 rankings only 10 times in the 18 year span"
   ]
  },
  {
   "cell_type": "code",
   "execution_count": 341,
   "metadata": {},
   "outputs": [
    {
     "name": "stdout",
     "output_type": "stream",
     "text": [
      "Forward\n",
      "           count  fee_cleaned\n",
      "nat                          \n",
      "Argentina     19          3.0\n",
      "Italy         19          3.0\n",
      "Spain         18          4.0\n",
      "France        19          5.0\n",
      "Brazil        19          5.0\n",
      "\n",
      "\n",
      "\n",
      "Midfield\n",
      "         count  fee_cleaned\n",
      "nat                        \n",
      "Brazil      19          2.0\n",
      "France      19          3.0\n",
      "Spain       19          4.0\n",
      "England     19          4.0\n",
      "Italy       19          4.0\n",
      "\n",
      "\n",
      "\n",
      "Winger\n",
      "             count  fee_cleaned\n",
      "nat                            \n",
      "France          18          3.0\n",
      "Spain           19          4.0\n",
      "Netherlands     19          5.0\n",
      "Portugal        18          5.5\n",
      "England         16          6.5\n",
      "\n",
      "\n",
      "\n",
      "Defense\n",
      "         count  fee_cleaned\n",
      "nat                        \n",
      "Italy       19          2.0\n",
      "Brazil      19          3.0\n",
      "France      19          3.0\n",
      "England     19          3.0\n",
      "Spain       17          5.0\n",
      "\n",
      "\n",
      "\n",
      "Goalkeeper\n",
      "         count  fee_cleaned\n",
      "nat                        \n",
      "Italy       17          3.0\n",
      "England     18          3.5\n",
      "Brazil      16          5.0\n",
      "Spain       17          5.0\n",
      "Germany     17          6.0\n",
      "\n",
      "\n",
      "\n"
     ]
    }
   ],
   "source": [
    "clean  = raw\n",
    "positions=['Forward', 'Midfield', 'Winger', 'Defense',\n",
    "       'Goalkeeper']\n",
    "\n",
    "final = {}\n",
    "#Iterate over the years\n",
    "for i in range(2000,2019):\n",
    "    # Iterate over positions\n",
    "    for pos in positions:\n",
    "        if pos not in final:\n",
    "            final[pos]=pd.DataFrame()\n",
    "        # Sum over the fee by nation and rank \n",
    "        x = clean[(clean[\"posNew\"]==pos)&(clean[\"year\"]==i)].groupby(['nat'])['fee_cleaned'].agg('sum').rank(ascending=False).sort_values(ascending=True)\n",
    "        x = x.to_frame()\n",
    "        x[\"year\"]=i\n",
    "        final[pos]= final[pos].append(x)\n",
    "# Add column to maintain counts\n",
    "for pos in positions:\n",
    "    final[pos][\"count\"]=1\n",
    "    \n",
    "# Compute median and display countries by rank in ascending order \n",
    "for pos in positions:\n",
    "    z = final[pos].groupby('nat').median().reset_index()\n",
    "    z1 = final[pos].groupby(['nat']).agg({\"count\":\"count\",\"fee_cleaned\": \"median\",})\n",
    "    print(pos)\n",
    "    print(z1[z1[\"count\"]>=10].sort_values(by=\"fee_cleaned\").head(5))\n",
    "    print(\"\\n\\n\")"
   ]
  },
  {
   "cell_type": "markdown",
   "metadata": {},
   "source": [
    "## Conclusion\n",
    "\n",
    "- By analyzing the transfer market we are now aware of some of the big spenders in the European leagues and the inflation in transfer fees in the English Premier League\n",
    "\n",
    "- With clubs raking in huge amounts of revenue, checks and balances need to be put into place to prevent the sport from being dominated from a few European elite clubs. which could lead to an European Super League\n",
    "\n",
    "- High transfer spending for domestic and international performance can lead to wealth inequality between leagues and clubs. \n",
    "\n",
    "- The increase in foreign investments into European Clubs has led to the rise of super-rich clubs\n"
   ]
  }
 ],
 "metadata": {
  "kernelspec": {
   "display_name": "Python 3",
   "language": "python",
   "name": "python3"
  },
  "language_info": {
   "codemirror_mode": {
    "name": "ipython",
    "version": 3
   },
   "file_extension": ".py",
   "mimetype": "text/x-python",
   "name": "python",
   "nbconvert_exporter": "python",
   "pygments_lexer": "ipython3",
   "version": "3.6.8"
  }
 },
 "nbformat": 4,
 "nbformat_minor": 2
}
